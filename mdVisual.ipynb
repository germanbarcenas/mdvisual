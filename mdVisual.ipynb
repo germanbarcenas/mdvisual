{
 "cells": [
  {
   "cell_type": "markdown",
   "id": "a6054640",
   "metadata": {},
   "source": [
    "Created on Wed Aug 18 12:05:48 2021\n",
    "\n",
    "This script used the output of Molecular Dynamics and creates video outputs.\n",
    "\n",
    "\n",
    "@author: GERMANBARCENAS"
   ]
  },
  {
   "cell_type": "code",
   "execution_count": 1,
   "id": "8d778892",
   "metadata": {},
   "outputs": [
    {
     "data": {
      "application/vnd.jupyter.widget-view+json": {
       "model_id": "56e006aa629142d39a0cb164b85a542d",
       "version_major": 2,
       "version_minor": 0
      },
      "text/plain": []
     },
     "metadata": {},
     "output_type": "display_data"
    },
    {
     "name": "stdout",
     "output_type": "stream",
     "text": [
      "You have to install moviepy, imageio and ffmeg\n",
      "pip install moviepy==0.2.2.11\n",
      "pip install imageio==1.6\n",
      "np version: 1.20.3\n",
      "sns version: 0.11.2\n",
      "ngl version: 3.0.3\n",
      "mda version: 2.0.0\n"
     ]
    }
   ],
   "source": [
    "import numpy as np\n",
    "import csv\n",
    "import seaborn as sns\n",
    "import matplotlib.pyplot as plt\n",
    "import nglview as nv\n",
    "from nglview.contrib.movie import MovieMaker\n",
    "import MDAnalysis as mda\n",
    "\n",
    "import warnings\n",
    "warnings.filterwarnings('ignore', category=DeprecationWarning)\n",
    "warnings.filterwarnings('ignore', category=UserWarning)\n",
    "\n",
    "print(\"np version: \"+ np.__version__)\n",
    "print(\"sns version: \"+ sns.__version__)\n",
    "print(\"ngl version: \"+ nv.__version__)\n",
    "print(\"mda version: \"+ mda.__version__)"
   ]
  },
  {
   "cell_type": "code",
   "execution_count": null,
   "id": "a96d2c6b",
   "metadata": {},
   "outputs": [],
   "source": [
    "# %% Create Universe\n",
    "XTC = 'sq-cl2-bc.xtc'\n",
    "TPR = 'sq-cl2-bc.tpr'\n",
    "u = mda.Universe(TPR,XTC)\n",
    "\n",
    "HolidayJunction=u.select_atoms('resname IDT & SAC & DTL & DA & DG & DC & DT')\n",
    "dyeAggregate=u.select_atoms('resname IDT & SAC &')"
   ]
  },
  {
   "cell_type": "code",
   "execution_count": 2,
   "id": "bd8fbdc1",
   "metadata": {},
   "outputs": [
    {
     "ename": "NameError",
     "evalue": "name 'HolidayJunction' is not defined",
     "output_type": "error",
     "traceback": [
      "\u001b[1;31m---------------------------------------------------------------------------\u001b[0m",
      "\u001b[1;31mNameError\u001b[0m                                 Traceback (most recent call last)",
      "\u001b[1;32m<ipython-input-2-484d8a4e8c44>\u001b[0m in \u001b[0;36m<module>\u001b[1;34m\u001b[0m\n\u001b[0;32m      1\u001b[0m \u001b[1;31m# %% Create Universe Video\u001b[0m\u001b[1;33m\u001b[0m\u001b[1;33m\u001b[0m\u001b[1;33m\u001b[0m\u001b[0m\n\u001b[1;32m----> 2\u001b[1;33m \u001b[0mview\u001b[0m\u001b[1;33m=\u001b[0m\u001b[0mnv\u001b[0m\u001b[1;33m.\u001b[0m\u001b[0mshow_mdanalysis\u001b[0m\u001b[1;33m(\u001b[0m\u001b[0mHolidayJunction\u001b[0m\u001b[1;33m)\u001b[0m\u001b[1;33m\u001b[0m\u001b[1;33m\u001b[0m\u001b[0m\n\u001b[0m\u001b[0;32m      3\u001b[0m \u001b[0mdye\u001b[0m\u001b[1;33m=\u001b[0m\u001b[0mu\u001b[0m\u001b[1;33m.\u001b[0m\u001b[0mselect_atoms\u001b[0m\u001b[1;33m(\u001b[0m\u001b[1;34m'resname SAC'\u001b[0m\u001b[1;33m)\u001b[0m\u001b[1;33m\u001b[0m\u001b[1;33m\u001b[0m\u001b[0m\n\u001b[0;32m      4\u001b[0m \u001b[1;31m#print(dye)\u001b[0m\u001b[1;33m\u001b[0m\u001b[1;33m\u001b[0m\u001b[1;33m\u001b[0m\u001b[0m\n\u001b[0;32m      5\u001b[0m \u001b[0mview\u001b[0m\u001b[1;33m.\u001b[0m\u001b[0mcenter\u001b[0m\u001b[1;33m(\u001b[0m\u001b[0mzoom\u001b[0m\u001b[1;33m=\u001b[0m\u001b[1;32mTrue\u001b[0m\u001b[1;33m,\u001b[0m\u001b[0mselection\u001b[0m\u001b[1;33m=\u001b[0m\u001b[1;34m'15'\u001b[0m\u001b[1;33m)\u001b[0m \u001b[1;31m# selection is based on resid. mda can assist\u001b[0m\u001b[1;33m\u001b[0m\u001b[1;33m\u001b[0m\u001b[0m\n",
      "\u001b[1;31mNameError\u001b[0m: name 'HolidayJunction' is not defined"
     ]
    }
   ],
   "source": [
    "# %% Create Universe Video\n",
    "view=nv.show_mdanalysis(HolidayJunction)\n",
    "dye=u.select_atoms('resname SAC')\n",
    "#print(dye)\n",
    "view.center(zoom=True,selection='15') # selection is based on resid. mda can assist\n",
    "view"
   ]
  },
  {
   "cell_type": "code",
   "execution_count": 3,
   "id": "0b7e010e",
   "metadata": {},
   "outputs": [
    {
     "ename": "NameError",
     "evalue": "name 'view' is not defined",
     "output_type": "error",
     "traceback": [
      "\u001b[1;31m---------------------------------------------------------------------------\u001b[0m",
      "\u001b[1;31mNameError\u001b[0m                                 Traceback (most recent call last)",
      "\u001b[1;32m<ipython-input-3-7e0696fe9c2c>\u001b[0m in \u001b[0;36m<module>\u001b[1;34m\u001b[0m\n\u001b[1;32m----> 1\u001b[1;33m \u001b[0mmovie\u001b[0m \u001b[1;33m=\u001b[0m \u001b[0mMovieMaker\u001b[0m\u001b[1;33m(\u001b[0m\u001b[0mview\u001b[0m\u001b[1;33m,\u001b[0m \u001b[0moutput\u001b[0m\u001b[1;33m=\u001b[0m\u001b[1;34m'my.gif'\u001b[0m\u001b[1;33m,\u001b[0m \u001b[0min_memory\u001b[0m\u001b[1;33m=\u001b[0m\u001b[1;32mTrue\u001b[0m\u001b[1;33m,\u001b[0m\u001b[0mfps\u001b[0m\u001b[1;33m=\u001b[0m\u001b[1;36m120\u001b[0m\u001b[1;33m)\u001b[0m\u001b[1;33m\u001b[0m\u001b[1;33m\u001b[0m\u001b[0m\n\u001b[0m\u001b[0;32m      2\u001b[0m \u001b[0mmovie\u001b[0m\u001b[1;33m.\u001b[0m\u001b[0mmake\u001b[0m\u001b[1;33m(\u001b[0m\u001b[1;33m)\u001b[0m\u001b[1;33m\u001b[0m\u001b[1;33m\u001b[0m\u001b[0m\n",
      "\u001b[1;31mNameError\u001b[0m: name 'view' is not defined"
     ]
    }
   ],
   "source": [
    "movie = MovieMaker(view, output='my.gif', in_memory=True,fps=120)\n",
    "movie.make()"
   ]
  },
  {
   "cell_type": "code",
   "execution_count": null,
   "id": "09cdd3fa",
   "metadata": {},
   "outputs": [],
   "source": []
  }
 ],
 "metadata": {
  "kernelspec": {
   "display_name": "Python 3 (ipykernel)",
   "language": "python",
   "name": "python3"
  },
  "language_info": {
   "codemirror_mode": {
    "name": "ipython",
    "version": 3
   },
   "file_extension": ".py",
   "mimetype": "text/x-python",
   "name": "python",
   "nbconvert_exporter": "python",
   "pygments_lexer": "ipython3",
   "version": "3.9.7"
  }
 },
 "nbformat": 4,
 "nbformat_minor": 5
}
